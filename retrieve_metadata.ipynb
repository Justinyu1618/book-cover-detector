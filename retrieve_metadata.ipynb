{
 "cells": [
  {
   "cell_type": "code",
   "execution_count": 1,
   "metadata": {},
   "outputs": [],
   "source": [
    "import requests\n",
    "import csv\n",
    "from bs4 import BeautifulSoup\n",
    "from urllib.request import Request, urlopen"
   ]
  },
  {
   "cell_type": "code",
   "execution_count": 2,
   "metadata": {},
   "outputs": [],
   "source": [
    "import re\n",
    "TAG_RE = re.compile(r'<[^>]+>')\n",
    "def remove_tags(text):\n",
    "    return TAG_RE.sub('', text)"
   ]
  },
  {
   "cell_type": "code",
   "execution_count": 3,
   "metadata": {},
   "outputs": [],
   "source": [
    "from IPython.display import Markdown, display\n",
    "def printmd(string):\n",
    "    display(Markdown(string))"
   ]
  },
  {
   "cell_type": "code",
   "execution_count": 4,
   "metadata": {},
   "outputs": [],
   "source": [
    "from html.parser import HTMLParser\n",
    "\n",
    "class MLStripper(HTMLParser):\n",
    "    def __init__(self):\n",
    "        self.reset()\n",
    "        self.strict = False\n",
    "        self.convert_charrefs= True\n",
    "        self.fed = []\n",
    "    def handle_data(self, d):\n",
    "        self.fed.append(d)\n",
    "    def get_data(self):\n",
    "        return ''.join(self.fed)\n",
    "\n",
    "def strip_tags(html):\n",
    "    s = MLStripper()\n",
    "    s.feed(html)\n",
    "    return s.get_data()"
   ]
  },
  {
   "cell_type": "code",
   "execution_count": 5,
   "metadata": {},
   "outputs": [],
   "source": [
    "# Hyperparameters\n",
    "amazon_reviews_count = 3"
   ]
  },
  {
   "cell_type": "code",
   "execution_count": 6,
   "metadata": {},
   "outputs": [],
   "source": [
    "def book_details_goodreads(isbn):\n",
    "\n",
    "    # Getting book title from Amazon\n",
    "    amazon_base_url = \"https://www.amazon.com/dp/\"\n",
    "    amazon_url = amazon_base_url + isbn\n",
    "    req = Request(amazon_url, headers={'User-Agent': 'Mozilla/5.0'})\n",
    "    page = urlopen(req).read().decode(\"utf-8\")\n",
    "    soup = BeautifulSoup(page, 'html.parser')\n",
    "\n",
    "    a_title = soup.find_all(\"span\",id=\"productTitle\")\n",
    "    a_title = str(a_title)\n",
    "    a_title = remove_tags(a_title)\n",
    "    a_title = a_title.strip(\"[]\")\n",
    "    a_title = a_title.strip()\n",
    "    a_title_list = a_title.split(\" \")\n",
    "\n",
    "    # Goodreads Scraping\n",
    "    goodreads_base_url = \"https://www.goodreads.com/book/isbn/\"\n",
    "    goodreads_url = goodreads_base_url + isbn\n",
    "    req = Request(goodreads_url, headers={'User-Agent': 'Mozilla/5.0'})\n",
    "    page = urlopen(req).read().decode(\"utf-8\")\n",
    "    soup = BeautifulSoup(page, 'html.parser')\n",
    "\n",
    "    # Book Title\n",
    "    book_name = soup.find(itemprop=\"name\")\n",
    "    book_name = str(book_name)\n",
    "    book_name = remove_tags(book_name)\n",
    "    book_name = book_name.strip()\n",
    "    book_name_list = book_name.split(\" \")\n",
    "\n",
    "    # Verifying if isbn is present in Goodreads by comparing book titles from Goodreads & Amazon\n",
    "#     if str(a_title_list[0]).lower() != str(book_name_list[0]).lower():\n",
    "#         return print(\"Book not found in Goodreads\")\n",
    "\n",
    "    # Author Names\n",
    "    author_names = soup.find_all(\"span\",itemprop=\"name\")\n",
    "    author_names = str(author_names)\n",
    "    author_names = author_names.split(\",\")\n",
    "    author_name = author_names[0]\n",
    "    author_name = author_name.split(\">\")[1].split(\"<\")[0]\n",
    "    for i in range(len(author_names)):\n",
    "        author_names[i] = author_names[i].split(\">\")[1].split(\"<\")[0]\n",
    "\n",
    "    author_names_text = \"\"\n",
    "    for i in range(len(author_names)):\n",
    "        author_names_text += str(author_names[i])\n",
    "        author_names_text += \", \"\n",
    "\n",
    "    # Number of Ratings\n",
    "    rating_count = soup.find(itemprop=\"ratingCount\")\n",
    "    rating_count = str(rating_count)\n",
    "    rating_count = rating_count.split('\"')[1]\n",
    "\n",
    "    # Average Rating\n",
    "    rating_val = soup.find(itemprop=\"ratingValue\")\n",
    "    rating_val = str(rating_val)\n",
    "    rating_val = remove_tags(rating_val)\n",
    "\n",
    "    # Number of pages in book\n",
    "    pg_count = soup.find(\"meta\",  property=\"books:page_count\")\n",
    "    pg_count = str(pg_count)\n",
    "    pg_count = pg_count.split('\"')[1]\n",
    "\n",
    "    # Book Description\n",
    "    desc = soup.find(\"div\", id=\"description\")\n",
    "    if desc is not None:\n",
    "        desc = desc.find_all(\"span\",style=\"display:none\")\n",
    "        if desc is not None:\n",
    "            desc = str(desc)\n",
    "            desc = remove_tags(desc)\n",
    "            description = desc.strip(\"[]\")\n",
    "            description = description.strip()\n",
    "        else:\n",
    "            description = \"No description found\"\n",
    "    else:\n",
    "        description = \"No description found\"\n",
    "        \n",
    "        \n",
    "    # Reviews\n",
    "    review_block = soup.find('div', {'id': 'reviews'})\n",
    "    reviews = review_block.find_all('span', {'id': re.compile('^freeTextContainer')})\n",
    "    actual_reviews = []\n",
    "    for review in reviews:\n",
    "        review = strip_tags(str(review))\n",
    "        end_index = review.rfind(\".\")\n",
    "        review = review[:end_index + 1]\n",
    "        actual_reviews.append(review)\n",
    "        \n",
    "    # Friend reviews\n",
    "    review_block = soup.find('div', {'id': 'reviews'})\n",
    "    reviews = review_block.find_all('span', {'id': re.compile('^freeTextContainer')})\n",
    "    actual_reviews = []\n",
    "    for review in reviews:\n",
    "        review = strip_tags(str(review))\n",
    "        end_index = review.rfind(\".\")\n",
    "        review = review[:end_index + 1]\n",
    "        actual_reviews.append(review)\n",
    "\n",
    "    # Printing book details from Goodreads\n",
    "    printmd('**Book Details from Goodreads\\n**')\n",
    "    #print(\"Book Details from Goodreads\\n\")\n",
    "    print(\"Book Title: \",book_name.splitlines()[0])\n",
    "    #print(\"\\n\")\n",
    "    print(\"Authors: \",author_names_text)\n",
    "    #print(\"\\n\")\n",
    "    print(\"Average Rating: \",rating_val)\n",
    "    #print(\"\\n\")\n",
    "    print(\"Number of ratings: \",rating_count)\n",
    "    #print(\"\\n\")\n",
    "    print(\"Number of pages in book: \",pg_count)\n",
    "    print(\"\\n\")\n",
    "    print(\"Book Description:\")\n",
    "    print(\"\\n\")\n",
    "    print(description)\n",
    "    print(\"Book Reviews:\")\n",
    "    print(actual_reviews)\n",
    "    \n",
    "    "
   ]
  },
  {
   "cell_type": "code",
   "execution_count": 28,
   "metadata": {},
   "outputs": [],
   "source": [
    "def book_details_amazon(isbn):\n",
    "\n",
    "    # Amazon Scraping\n",
    "    amazon_base_url = \"https://www.amazon.com/dp/\"\n",
    "    amazon_url = amazon_base_url + isbn\n",
    "    req = Request(amazon_url, headers={'User-Agent': 'Mozilla/5.0'})\n",
    "    page = urlopen(req).read().decode(\"utf-8\")\n",
    "    soup = BeautifulSoup(page, 'html.parser')\n",
    "\n",
    "    # Book title\n",
    "    a_title = soup.find_all(\"span\",id=\"productTitle\")\n",
    "    a_title = str(a_title)\n",
    "    a_title = remove_tags(a_title)\n",
    "    a_title = a_title.strip(\"[]\")\n",
    "    a_title = a_title.strip()\n",
    "\n",
    "    # Book details\n",
    "    book_info = []\n",
    "    for li in soup.select('table#productDetailsTable div.content ul li'):\n",
    "        try:\n",
    "            title = li.b\n",
    "            key = title.text.strip().rstrip(':')\n",
    "            value = title.next_sibling.strip()\n",
    "            value = value.strip(\"()\")\n",
    "            book_info.append((key,value))\n",
    "        except AttributeError:\n",
    "            break\n",
    "\n",
    "    # Amazon reviews scraping\n",
    "    amazon_review_base_url = \"https://www.amazon.com/product-reviews/\"\n",
    "    amazon_review_url = amazon_review_base_url + isbn + \"/ref=cm_cr_getr_d_paging_btm_2?pageNumber=\"\n",
    "    print(amazon_review_url)\n",
    "    req = Request(amazon_review_url, headers={'User-Agent': 'Mozilla/5.0'})\n",
    "    page = urlopen(req).read().decode(\"utf-8\")\n",
    "    soup = BeautifulSoup(page, 'html.parser')\n",
    "    txt = soup.find('div', {'id': 'cm_cr-review_list'})\n",
    "    print(txt)\n",
    "    \n",
    "\n",
    "    # List of book reviews in Amazon\n",
    "    reviews_list = []\n",
    "    reviews_list_final = []\n",
    "    \n",
    "    for pg in range(1):\n",
    "#         amazon_review_url = amazon_review_base_url + isbn + \"/ref=cm_cr_getr_d_paging_btm_2?pageNumber=\" + str(pg)\n",
    "#         req = Request(amazon_review_url, headers={'User-Agent': 'Mozilla/5.0'})\n",
    "#         page = urlopen(req).read().decode(\"utf-8\")\n",
    "#         soup = BeautifulSoup(page, 'html.parser')\n",
    "#         print(soup)\n",
    "        txt = soup.find(\"div\", id='cm_cr-review_list')\n",
    "\n",
    "#         txt = soup.find(\"div\", id=re.compile('^cm_cr-review_list'))\n",
    "        print(\"txt: \")\n",
    "        print(len(txt))\n",
    "        try:\n",
    "            for rawreview in txt.find_all('span', {'class' : 'a-size-base review-text'}):\n",
    "                text = rawreview.parent.parent.parent.text\n",
    "                startindex = text.index('5 stars') + 7\n",
    "                endindex = text.index('Was this review helpful to you?')\n",
    "                text = text[startindex:endindex]\n",
    "                text = text.split(\"Verified Purchase\")[1]\n",
    "                rText = text.split(\".\")[:-1]\n",
    "                review_text = \"\"\n",
    "                for i in range(len(rText)):\n",
    "                    review_text += rText[i]\n",
    "                    review_text += \".\"\n",
    "                if review_text is not \"\":\n",
    "                    if \"|\" not in review_text:\n",
    "                        reviews_list.append(review_text)\n",
    "                    else:\n",
    "                        rText = text.split(\".\")[:-2]\n",
    "                        review_text = \"\"\n",
    "                        for x in range(len(rText)):\n",
    "                            review_text += rText[x]\n",
    "                            review_text += \".\"\n",
    "                        reviews_list.append(review_text)\n",
    "        except AttributeError:\n",
    "            review_text = \"No reviews found.\"\n",
    "\n",
    "    print(len(reviews_list))\n",
    "    if amazon_reviews_count < len(reviews_list):\n",
    "        reviews_list_final = reviews_list[:amazon_reviews_count]\n",
    "    else:\n",
    "        reviews_list_final = reviews_list\n",
    "\n",
    "    # Printing book details from Amazon\n",
    "    printmd('**Book Details from Amazon\\n**')\n",
    "    #print(\"Book Details from Amazon\\n\")\n",
    "    print(\"Book Title: \",a_title)\n",
    "    #print(\"\\n\")\n",
    "    for i in range(len(book_info)):\n",
    "        print(f\"{book_info[i][0]} : {book_info[i][1]}\")\n",
    "        #print(\"\\n\")\n",
    "    print(\"\\n\")\n",
    "    if len(reviews_list_final) == 0:\n",
    "        print(review_text)\n",
    "        print(\"\\n\")\n",
    "    else:\n",
    "        print(f\"Displaying top {amazon_reviews_count} book reviews:\\n\")\n",
    "        for i in range(len(reviews_list_final)):\n",
    "            review_txt_list = reviews_list_final[i].split(\".\")[:3]\n",
    "            review_txt = \"\"\n",
    "            for j in range(len(review_txt_list)):\n",
    "                review_txt += review_txt_list[j]\n",
    "                review_txt += \".\"\n",
    "            review_txt += \"..\"\n",
    "            print(review_txt)\n",
    "            print(\"\\n\")"
   ]
  },
  {
   "cell_type": "code",
   "execution_count": 29,
   "metadata": {},
   "outputs": [
    {
     "name": "stdout",
     "output_type": "stream",
     "text": [
      "hello world\n"
     ]
    }
   ],
   "source": [
    "isbn = \"1476779112\"\n",
    "print(\"hello world\")"
   ]
  },
  {
   "cell_type": "code",
   "execution_count": 30,
   "metadata": {},
   "outputs": [
    {
     "data": {
      "text/markdown": [
       "**Book Details from Goodreads\n",
       "**"
      ],
      "text/plain": [
       "<IPython.core.display.Markdown object>"
      ]
     },
     "metadata": {},
     "output_type": "display_data"
    },
    {
     "name": "stdout",
     "output_type": "stream",
     "text": [
      "Book Title:  Uncertain Logic\n",
      "Authors:  Christopher L. Bennett, \n",
      "Average Rating:  \n",
      "  4.10\n",
      "\n",
      "Number of ratings:  404\n",
      "Number of pages in book:  384\n",
      "\n",
      "\n",
      "Book Description:\n",
      "\n",
      "\n",
      "An original novel continuing the saga of the TV series Star Trek: Enterprise—featuring Captain Jonathan Archer and the crew of the Enterprise!Years ago, Jonathan Archer and T’Pol helped unearth the true writings of Vulcan’s great philosopher Surak, bringing forth a new era of peaceful reform on Vulcan. But when their discovery is seemingly proven to be a fraud, the scandal threatens to undo a decade of progress and return power to the old, warlike regime. Admiral Archer, Captain T’Pol, and the crew of the U.S.S. Endeavour investigate with help from their Vulcan allies, but none of them suspect the identity of the real mastermind behind the conspiracy to reconquer Vulcan—or the price they will have to pay to discover the truth.Meanwhile, when a long-forgotten technological threat re-emerges beyond the Federation’s borders, Captain Malcolm Reed of the U.S.S. Pioneer attempts to track down its origins with help from his old friend “Trip” Tucker. But they discover that other civilizations are eager to exploit this dangerous power for their own benefit, even if the Federation must pay the price!™, ®, &amp; © 2015 CBS Studios, Inc. STAR TREK and related marks and logos are trademarks of CBS Studios, Inc. All Rights Reserved.\n",
      "Book Reviews:\n",
      "[\"Excellent! I think I'm one of the few that loved Enterprise & I was devastated when it was canceled. However CLB does a fantastic job continuing the story about the early days of the Federation. He knows the characters & has developed them well with top notch writing. There's 3 alternating plotlines to this book & they work well together, which made for a smooth read unlike some books that alternate plots & you get huge drop in quality from one plot to the next, not here.\", 'Seeing the TOS characters ancestors is a nice touch in the Enterprise relaunch.', \"With a crisis on Vulcan, the invesgation of the alien Ware, a visit to Delta IV with Orion shenanigans, a dark night of the soul for Tobin Dax, Archer considering promotion, and the first hint of the Cardassians, to say this novel is busy is an understatement. I wasn't really enamored with the Ware storyline (except for the Trip/Travis aspects), but the rest of the novel managed to hang together in enjoyable fashion (I especially loved the hints of the future with the Tobin plot line).\", \"Uncertain Logic was an expertly crafted novel. It well executed three simultaneous narratives connected only by their shared themes.The planet Vulcan is rocked by the sudden calling into question of its most sacred beliefs. Admiral Jonathan Archer, Captain T'Pol and the crew of the U.S.S. Endeavor must work the planet's leaders to stop a brewing civil war on a founding planet of the Federation.Meanwhile the U.S.S. Essex journeys to the planet Delta IV.\", 'I think I’ve decided I really don’t like series books. By the time the next one has come out, I’ve forgotten what happened in the previous installment. This happened with this book. I couldn’t keep the character straight and the newer Star Trek books are so dense with minor characters mentioned in one episode from twenty years ago it’s hard to keep everything straight.', '“Uncertain Logic” by Christopher L. Bennett is the third novel in the “Birth of the Federation” series which continues the adventures of the crew from Star Trek Enterprise. I have been thoroughly enjoying this series of novels and wasn’t surprised when I found myself appreciating this novel just as much as the others.', \"STAR TREK: UNCERTAIN LOGIC is the third volume of the Rise of the Federation series by Christopher Bennett and probably something I enjoy more than I ever did Enterprise itself. Don't get me wrong, my love of the series has improved over the years and it's (weirdly) my non-Trekkie wife's favorite. However, I always felt the series had some serious untapped potential that I find the author of the Department of Temporal Investigations series really corrects.\", \"It's sometimes hard writing reviews for these Enterprise books. They cover such a large amount of time with a large amount of characters and I tend to read them over a fairly long period. In this case it was only a month or so, but with so many other books in between my brain sometimes gets muddled.One of the things I have always loved about science fiction in general and Star Trek in particular is the way it talks about our modern day issues through the lens of the future.\", \"I liked this one more than I thought I would. As the third entry in the series, I thought it might not hold up well on its own, but it's a pretty good book. There are two main plot threads in the book, one involving Vulcan politics, and one involving the Ware. Then, there's a third plot thread involving the Deltans and the Orions, which I kind of suspect is setting up some stuff for the next novel. None of the plot threads really converge at any point, so that's a bit of a disappointment.\", \"The author's skill in weaving together his story from fragments gleaned from sundry sources is beyond dispute. It entrenches everything firmly in the Star Trek universe we know and love. There is clear character development too, not just from the crew regulars but those supporting cast who it would be all too easy to cast in a mold.This story focuses on the nature of our choices.\", \"It's a well done Enterprise novel. I've always wondered when someone would get around to doing a Deltan and Orion story. It sows up some loose ends from the TV show concerning both The Ware and the Vulcan High Command. It was nice to see the Original Series foreshadowing, but I won't drop any spoilers. The Trip story line is what it is. I could have done without the Hoshi melodrama. It was a well done novel.\", \"thoroughly enjoyed this fast paced Star Trek Enterprise story. Several story lines covered in the one book but they are not confusing like you sometimes get. One of them is a development of a TV story I watched only a few days ago. Also lovely little detail at the end when a new baby's name is revealed. The other storyline is very appropriate in today's atmosphere of building xenophobia and increasing hatred of 'the different'.\", 'This novel continues with the parade of worlds that are joining the federation: in this book we see the Deltans, and we continue an exploration of those \"Ware\" space stations which we originally saw on screen in Enterprise. Meanwhile on Vulcan the Kirshara is stolen and people try to use it to overthrow the new Vulcan government. It\\'s fun to see ancestors of characters that we see on screen in later Treks (Dax, Kirk, Paris, and we see the birth of Sarek at the end of this one).', \"This book is tough to review. On the one hand, the main plot is involved, twisty, surprising, and ultimately rewarding. On the other hand, the subplots seem bolted on and unnecessary. I guess he's trying to keep the Enterprise crew in the story, since it's in the Enterprise universe. Problems notwithstanding, the main plot makes up for the muddy rest, and is really quite timely to modern politics.\", 'Revisiting some plot lines from the TV series, Archer & company race to preserve Vulcan culture and government, while Reed & Mayweather work to prevent more victims of the Ware.', 'Was not a Start Trek fan, but I am now!My first Start Trek book ever, and it was not a easy read for me. But man it has all the good elements I am expecting from a good SiFi book.', 'Really enjoying this series--but ENT is like my fav, so...', \"If it's a Star Trek book...pretty much I will like it. Kudos to all those who keep the series alive in the books.\", 'Really enjoyed this book. Looking forward to more.', 'GreatI miss the show slightly less because of these books. Although I imagine live action versions would be amazing. Just great.', \"After having some doubts about the book throughout the first third or so of the book it turned out to be astonishingly entertaining overall. The whole thing really gained speed and atmosphere and the characters seemed far more alive and trying harder the longer it went.The biggest downside really was that they had to stuff so damned many storylines into the novel... Vulcan, the Ware and the planets suffering under it, the Deltans and Archer's anxiety towards promotion...\", 'The 3rd book by Christopher L. Bennett in his \"Rise of the Federation\" series, \"Uncertain Logic\" is a book that continues our look at the early days of the Federation by spending its time in the entire first half of 2165 with 3 parallel story lines that never intersect for the most part. Story #1 involves Reed\\'s ship the Pioneer as they encounter another automated repair station (last seen in \"Dead Stop\").', 'DISCLAIMER: I received this book as a freebie from the publisher at Cleveland ConCoction 2016, where Bennett was the author guest of honor.My favorite aspect of this novel was the fact that Bennett allows a Starfleet ship to make a major mistake. This series might be about the ascension of the Federation to a major Alpha Quadrant power, but no one is infallible. The mistake is heartbreaking, and as a reader, the resolution is both fulfilling and poignant.', \"I have long been a fan of Christopher L. Bennett's Trek work, and Uncertain Logic did not disappoint. In fact, as much as I loved the previous two Rise of the Federation novels, this one seems to me to be the strongest. Here we truly experience the growing pains of a nascent Federation, with one of the founding members going through an existential crisis that may tear the fledgling coalition apart.\", \"Another great read by Christopher L. Bennett. His continuation of the Enterprise series has been some of my favorite Trek lit. Bennett's take on the early years of the Federation keeps you hooked into the story. Bennett also has a great knack for including and expanding on familiar characters, as well as preexisting yet underdeveloped ones.\", \"Possibly the best book of the three out in the series so far. Again, amazingly well researched, exciting and moving. Like a good episode of Star Trek, the book had many stories and interwoven plots. But unlike in an episode, there's much more time to get to know the characters and their stories. You get to learn more about the Vulcans and their history, as well as the Orions and the Deltans among others.\", 'I liked it. Made me miss Enterprise. The show was just hitting its stride and focusing on the birth of the Federation when it got cancelled.This focuses on three stories. The return of Vulcan traitor V\\'Las. The origins of the mysterious advanced space station in the episode \"Dead Stop.\" And the first major contact between the Deltans and the Federation.I especially enjoyed the focus on sexuality. That\\'s rarely ever discussed in Star Trek.', 'A worthwhile continuation of the storyarc that has been developed over the last several books. Certainly worth reading if you are up to date on the progress of the continuing plot; doubtful if you are not. It is possible that someone who is familiar with the \"Enterprise\" series and at least some of the direction that the books have taken the story since the discontinuation of the show might be able to follow the plot in this book , but it couldn\\'t be easy.', 'Book 3 of Rise of the Federation reaches back to several episodes of the series and the ongoing story threads of the last 2 novels to tell its story. The Orion Syndicate is still up to no good, a plot is afoot on Vulcan to destabilize the planet and the Federation. The former crew of the Enterprise has their work cut out for them. The author really captures the characters and action beats from the series really well. I look forward to book 4 in this series.', \"I enjoy Mr. Bennett's Rise of the Federation novels. This one in particular has something to say about contemporary 21st century problems: divide-and-conquer tactics for political gain, consumerism, and wage slavery.\"]\n"
     ]
    }
   ],
   "source": [
    "book_details_goodreads(isbn)"
   ]
  },
  {
   "cell_type": "markdown",
   "metadata": {},
   "source": [
    "  book_details_amazon(isbn)"
   ]
  },
  {
   "cell_type": "code",
   "execution_count": 31,
   "metadata": {},
   "outputs": [
    {
     "name": "stdout",
     "output_type": "stream",
     "text": [
      "https://www.amazon.com/product-reviews/1476779112/ref=cm_cr_getr_d_paging_btm_2?pageNumber=\n",
      "None\n",
      "txt: \n"
     ]
    },
    {
     "ename": "TypeError",
     "evalue": "object of type 'NoneType' has no len()",
     "output_type": "error",
     "traceback": [
      "\u001b[0;31m---------------------------------------------------------------------------\u001b[0m",
      "\u001b[0;31mTypeError\u001b[0m                                 Traceback (most recent call last)",
      "\u001b[0;32m<ipython-input-31-cbb666b2501d>\u001b[0m in \u001b[0;36m<module>\u001b[0;34m()\u001b[0m\n\u001b[0;32m----> 1\u001b[0;31m \u001b[0mbook_details_amazon\u001b[0m\u001b[0;34m(\u001b[0m\u001b[0misbn\u001b[0m\u001b[0;34m)\u001b[0m\u001b[0;34m\u001b[0m\u001b[0;34m\u001b[0m\u001b[0m\n\u001b[0m",
      "\u001b[0;32m<ipython-input-28-621b7196426a>\u001b[0m in \u001b[0;36mbook_details_amazon\u001b[0;34m(isbn)\u001b[0m\n\u001b[1;32m     52\u001b[0m \u001b[0;31m#         txt = soup.find(\"div\", id=re.compile('^cm_cr-review_list'))\u001b[0m\u001b[0;34m\u001b[0m\u001b[0;34m\u001b[0m\u001b[0;34m\u001b[0m\u001b[0m\n\u001b[1;32m     53\u001b[0m         \u001b[0mprint\u001b[0m\u001b[0;34m(\u001b[0m\u001b[0;34m\"txt: \"\u001b[0m\u001b[0;34m)\u001b[0m\u001b[0;34m\u001b[0m\u001b[0;34m\u001b[0m\u001b[0m\n\u001b[0;32m---> 54\u001b[0;31m         \u001b[0mprint\u001b[0m\u001b[0;34m(\u001b[0m\u001b[0mlen\u001b[0m\u001b[0;34m(\u001b[0m\u001b[0mtxt\u001b[0m\u001b[0;34m)\u001b[0m\u001b[0;34m)\u001b[0m\u001b[0;34m\u001b[0m\u001b[0;34m\u001b[0m\u001b[0m\n\u001b[0m\u001b[1;32m     55\u001b[0m         \u001b[0;32mtry\u001b[0m\u001b[0;34m:\u001b[0m\u001b[0;34m\u001b[0m\u001b[0;34m\u001b[0m\u001b[0m\n\u001b[1;32m     56\u001b[0m             \u001b[0;32mfor\u001b[0m \u001b[0mrawreview\u001b[0m \u001b[0;32min\u001b[0m \u001b[0mtxt\u001b[0m\u001b[0;34m.\u001b[0m\u001b[0mfind_all\u001b[0m\u001b[0;34m(\u001b[0m\u001b[0;34m'span'\u001b[0m\u001b[0;34m,\u001b[0m \u001b[0;34m{\u001b[0m\u001b[0;34m'class'\u001b[0m \u001b[0;34m:\u001b[0m \u001b[0;34m'a-size-base review-text'\u001b[0m\u001b[0;34m}\u001b[0m\u001b[0;34m)\u001b[0m\u001b[0;34m:\u001b[0m\u001b[0;34m\u001b[0m\u001b[0;34m\u001b[0m\u001b[0m\n",
      "\u001b[0;31mTypeError\u001b[0m: object of type 'NoneType' has no len()"
     ]
    }
   ],
   "source": [
    "  book_details_amazon(isbn)"
   ]
  },
  {
   "cell_type": "code",
   "execution_count": null,
   "metadata": {},
   "outputs": [],
   "source": []
  }
 ],
 "metadata": {
  "kernelspec": {
   "display_name": "Python 3",
   "language": "python",
   "name": "python3"
  },
  "language_info": {
   "codemirror_mode": {
    "name": "ipython",
    "version": 3
   },
   "file_extension": ".py",
   "mimetype": "text/x-python",
   "name": "python",
   "nbconvert_exporter": "python",
   "pygments_lexer": "ipython3",
   "version": "3.7.2"
  }
 },
 "nbformat": 4,
 "nbformat_minor": 2
}
